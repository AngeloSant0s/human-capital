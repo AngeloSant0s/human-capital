{
 "cells": [
  {
   "cell_type": "markdown",
   "id": "320d5164",
   "metadata": {},
   "source": [
    "# Simulation\n",
    "## Packages"
   ]
  },
  {
   "cell_type": "code",
   "execution_count": 1,
   "id": "4acfce30",
   "metadata": {
    "tags": [
     "hide-cell"
    ]
   },
   "outputs": [
    {
     "ename": "ModuleNotFoundError",
     "evalue": "No module named 'ams_functions'",
     "output_type": "error",
     "traceback": [
      "\u001b[0;31m---------------------------------------------------------------------------\u001b[0m",
      "\u001b[0;31mModuleNotFoundError\u001b[0m                       Traceback (most recent call last)",
      "\u001b[0;32m/var/folders/sb/z5dkqpwn7pzchsbq06rbbm9w0000gn/T/ipykernel_70912/2045118036.py\u001b[0m in \u001b[0;36m<module>\u001b[0;34m\u001b[0m\n\u001b[1;32m      1\u001b[0m \u001b[0;32mimport\u001b[0m \u001b[0mnumpy\u001b[0m \u001b[0;32mas\u001b[0m \u001b[0mnp\u001b[0m\u001b[0;34m\u001b[0m\u001b[0;34m\u001b[0m\u001b[0m\n\u001b[1;32m      2\u001b[0m \u001b[0;32mimport\u001b[0m \u001b[0mpandas\u001b[0m \u001b[0;32mas\u001b[0m \u001b[0mpd\u001b[0m\u001b[0;34m\u001b[0m\u001b[0;34m\u001b[0m\u001b[0m\n\u001b[0;32m----> 3\u001b[0;31m \u001b[0;32mimport\u001b[0m \u001b[0mams_functions\u001b[0m \u001b[0;32mas\u001b[0m \u001b[0mams\u001b[0m\u001b[0;34m\u001b[0m\u001b[0;34m\u001b[0m\u001b[0m\n\u001b[0m",
      "\u001b[0;31mModuleNotFoundError\u001b[0m: No module named 'ams_functions'"
     ]
    }
   ],
   "source": [
    "import numpy as np\n",
    "import pandas as pd\n",
    "import ams_functions as ams"
   ]
  },
  {
   "cell_type": "markdown",
   "id": "39fdf907",
   "metadata": {},
   "source": [
    "## Using the Model solution \n",
    "Using the model solution we can get the expected value matrix to use in our simulation. We will use this to calculate the utility for working and going to school."
   ]
  },
  {
   "cell_type": "code",
   "execution_count": null,
   "id": "6b5bd69f",
   "metadata": {},
   "outputs": [],
   "source": [
    "probs_w, probs_s, eps_t, eve_w, eve_s, vf = ams.solution()"
   ]
  },
  {
   "cell_type": "markdown",
   "id": "70c8bc93",
   "metadata": {},
   "source": [
    "## Simulation\n",
    "### Parameters \n",
    "\n",
    "We need to define how many individuals we are going to simulate and other parameters for our simulation. The parameters are:\n",
    "\n",
    "- Shock mean (`ϵ_mean`)\n",
    "- Shock Standart deviation (`ϵ_sd`)\n",
    "- The age that we start simulating children choices (`age_start`)\n",
    "- The maximum additional years to `age_start`. In our case we will `age_start` + `age_max` = 15, 15 is the last year that we are going to simulate. \n",
    "- Number of individual (`sim`)\n",
    "- Discount factor (`β`)\n",
    "\n",
    "About the shock, we are considering a logistic distribution."
   ]
  },
  {
   "cell_type": "code",
   "execution_count": null,
   "id": "ffbe6486",
   "metadata": {},
   "outputs": [],
   "source": [
    "np.random.seed(1996)\n",
    "ϵ_mean    = 0\n",
    "ϵ_sd      = 1\n",
    "age_start = 6\n",
    "age_max   = 10\n",
    "sim       = 100\n",
    "β         = 0.9"
   ]
  },
  {
   "cell_type": "markdown",
   "id": "38883109",
   "metadata": {},
   "source": [
    "### Creating Matrices\n",
    "Now, we need to create the matrices to store our results and create a dataframe with our individual. We will store the following:\n",
    "\n",
    "- Schooling decision\n",
    "- Education Level in the current period\n",
    "- Education Level in the next period\n",
    "- Age of the child\n",
    "- Shock received\n",
    "- Utility obtained from decision\n",
    "- Consumption obtained from decision"
   ]
  },
  {
   "cell_type": "code",
   "execution_count": null,
   "id": "104d4d5b",
   "metadata": {},
   "outputs": [],
   "source": [
    "# School decision\n",
    "S_dec = np.empty((age_max,sim))\n",
    "S_dec[:] = np.nan   \n",
    "\n",
    "# Education level (current period)\n",
    "ed_cur = np.empty((age_max,sim))\n",
    "ed_cur[:] = np.nan   \n",
    "\n",
    "# Education level (next period)\n",
    "ed_next = np.empty((age_max,sim))\n",
    "ed_next[:] = np.nan   \n",
    "\n",
    "# Age \n",
    "age_c = np.empty((age_max,sim))\n",
    "age_c[:] = np.nan\n",
    "\n",
    "# Shock\n",
    "eps = np.empty((age_max,sim))\n",
    "eps[:] = np.nan\n",
    "\n",
    "# Utility \n",
    "U = np.empty((age_max,sim))\n",
    "U[:] = np.nan  \n",
    "\n",
    "# Comsumption\n",
    "C = np.empty((age_max,sim))\n",
    "C[:] = np.nan"
   ]
  },
  {
   "cell_type": "markdown",
   "id": "90131274",
   "metadata": {},
   "source": [
    "### Simulating the individuals\n",
    "\n",
    "Now we will loop our simulated individuals using the vf matrix obtained using the model solution code. The loop is commented in order to understand the steps."
   ]
  },
  {
   "cell_type": "code",
   "execution_count": null,
   "id": "ddbaa774",
   "metadata": {},
   "outputs": [],
   "source": [
    "# Loop to simulate the individuals\n",
    "for s in range(sim):\n",
    "    # All the individuals start with no education\n",
    "    edu = 0          \n",
    "    for age in range(age_max):\n",
    "        # Actual child's age\n",
    "        age_c[age,s] = age_start + age\n",
    "        ed_cur[age,s] = edu\n",
    "        \n",
    "        # Random shock to education cost\n",
    "        e_shock = np.random.logistic(loc = ϵ_mean, scale = ϵ_sd)\n",
    "        \n",
    "        # Random shock to primary education sucess  \n",
    "        e_sucess = np.random.uniform()    \n",
    "        \n",
    "        if age == age_max - 1:\n",
    "            s_ev = ams.prob_progress(edu)*ams.terminal_v(edu=edu+1) + (1 - ams.prob_progress(edu))*ams.terminal_v(edu=edu)\n",
    "            w_ev = ams.terminal_v(edu=edu)\n",
    "        else:\n",
    "            s_ev = ams.prob_progress(edu)*vf[age+1, edu+1] + (1 - ams.prob_progress(edu))*vf[age+1,edu] \n",
    "            w_ev = vf[age+1, edu]\n",
    "            \n",
    "        # Utility for choices                          \n",
    "        school = ams.utility(age, edu, school=1, ϵ = e_shock) + β*s_ev\n",
    "        work   = ams.utility(age, edu, school=0, ϵ = e_shock) + β*w_ev\n",
    "                \n",
    "        # Decision that max utility for individual\n",
    "        dec = max(school, work)                                       \n",
    "        u = dec\n",
    "        if u == school:\n",
    "            if e_sucess <= ams.prob_progress(edu):\n",
    "                suc = 1\n",
    "            else:\n",
    "                suc = 0\n",
    "            ed_next[age,s] = edu + suc\n",
    "            C[age,s] = ams.budget_constraint(age, edu, school=1)\n",
    "            U[age,s] = dec\n",
    "            S_dec[age,s] = 1\n",
    "        else:\n",
    "            suc = 0\n",
    "            ed_next[age,s] = edu + suc\n",
    "            C[age,s] = ams.budget_constraint(age, edu, school=0)\n",
    "            U[age,s] = dec\n",
    "            S_dec[age,s] = 0\n",
    "        eps[age,s] = e_shock\n",
    "        edu = edu + suc"
   ]
  },
  {
   "cell_type": "markdown",
   "id": "538683b8",
   "metadata": {},
   "source": [
    "Now we can use the data created to build our dataframe."
   ]
  },
  {
   "cell_type": "code",
   "execution_count": null,
   "id": "bc8fa3be",
   "metadata": {},
   "outputs": [],
   "source": [
    "simulated_data = []\n",
    "for i in range(sim):\n",
    "    s = {}\n",
    "    s['id'] = i\n",
    "    s['age']  = list(range(6,16))\n",
    "    s['edu']  = list(ed_cur[:,i])\n",
    "    s['edu_next'] = list(ed_next[:,i])\n",
    "    s['School']  = list(S_dec[:,i])\n",
    "    s['eps']  = list(eps[:,i])\n",
    "    s['U']  = list(U[:,i])\n",
    "    s['C']  = list(C[:,i])\n",
    "    s = pd.DataFrame(s)\n",
    "    simulated_data.append(s)\n",
    "\n",
    "simulated_data = pd.concat(simulated_data, axis = 0).reset_index().drop('index', axis = 1)\n",
    "print(simulated_data)"
   ]
  },
  {
   "cell_type": "markdown",
   "id": "b1138e4c",
   "metadata": {},
   "source": [
    "We also can replicate this using the function from the ams_functions file, `ams.simulation()`, wich is this routine collapsed in the function."
   ]
  },
  {
   "cell_type": "code",
   "execution_count": null,
   "id": "e10d766e",
   "metadata": {},
   "outputs": [],
   "source": [
    "sim = ams.simulation()\n",
    "print(sim)"
   ]
  },
  {
   "cell_type": "markdown",
   "id": "b01fc2d7",
   "metadata": {},
   "source": [
    "You can see that the dataframes are equal."
   ]
  }
 ],
 "metadata": {
  "jupytext": {
   "cell_metadata_filter": "-all",
   "formats": "md:myst",
   "text_representation": {
    "extension": ".md",
    "format_name": "myst",
    "format_version": 0.13,
    "jupytext_version": "1.11.5"
   }
  },
  "kernelspec": {
   "display_name": "Python 3",
   "language": "python",
   "name": "python3"
  },
  "language_info": {
   "codemirror_mode": {
    "name": "ipython",
    "version": 3
   },
   "file_extension": ".py",
   "mimetype": "text/x-python",
   "name": "python",
   "nbconvert_exporter": "python",
   "pygments_lexer": "ipython3",
   "version": "3.9.13"
  },
  "source_map": [
   14,
   19,
   25,
   30,
   32,
   48,
   56,
   68,
   96,
   101,
   149,
   153,
   170,
   174,
   177
  ]
 },
 "nbformat": 4,
 "nbformat_minor": 5
}