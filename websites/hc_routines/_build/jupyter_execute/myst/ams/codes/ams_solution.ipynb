{
 "cells": [
  {
   "cell_type": "markdown",
   "id": "81ca1ff3",
   "metadata": {},
   "source": [
    "# Model solution\n",
    "\n",
    "In this exercise, we will go through the model solution.\n",
    "\n",
    "\n",
    "```{warning} \n",
    "Remember that `ams.func` is the sintax that calls the file with the functions see before.\n",
    "```\n",
    "\n",
    "\n",
    "## Packages\n",
    "\n",
    "First, calls numpy and my functions file so we can use it in our model solution."
   ]
  },
  {
   "cell_type": "code",
   "execution_count": 1,
   "id": "f6c26802",
   "metadata": {},
   "outputs": [
    {
     "ename": "ModuleNotFoundError",
     "evalue": "No module named 'ams_functions'",
     "output_type": "error",
     "traceback": [
      "\u001b[0;31m---------------------------------------------------------------------------\u001b[0m",
      "\u001b[0;31mModuleNotFoundError\u001b[0m                       Traceback (most recent call last)",
      "\u001b[0;32m/var/folders/sb/z5dkqpwn7pzchsbq06rbbm9w0000gn/T/ipykernel_70801/2070507018.py\u001b[0m in \u001b[0;36m<module>\u001b[0;34m\u001b[0m\n\u001b[1;32m      1\u001b[0m \u001b[0;32mimport\u001b[0m \u001b[0mnumpy\u001b[0m \u001b[0;32mas\u001b[0m \u001b[0mnp\u001b[0m\u001b[0;34m\u001b[0m\u001b[0;34m\u001b[0m\u001b[0m\n\u001b[0;32m----> 2\u001b[0;31m \u001b[0;32mimport\u001b[0m \u001b[0mams_functions\u001b[0m \u001b[0;32mas\u001b[0m \u001b[0mams\u001b[0m\u001b[0;34m\u001b[0m\u001b[0;34m\u001b[0m\u001b[0m\n\u001b[0m",
      "\u001b[0;31mModuleNotFoundError\u001b[0m: No module named 'ams_functions'"
     ]
    }
   ],
   "source": [
    "import numpy as np\n",
    "import ams_functions as ams"
   ]
  },
  {
   "cell_type": "markdown",
   "id": "f53b3a19",
   "metadata": {},
   "source": [
    "## Parameters\n",
    "\n",
    "To start our solution, we need to determine the parameters. The names here can be a little bit confusion, but the `age_max` indicate how many adding yeas the child can study. This means that we are simulated children that are 6 years old and can study until they are 16."
   ]
  },
  {
   "cell_type": "code",
   "execution_count": null,
   "id": "af26d907",
   "metadata": {},
   "outputs": [],
   "source": [
    "age_start = 6\n",
    "age_max   = 10"
   ]
  },
  {
   "cell_type": "markdown",
   "id": "11475fdf",
   "metadata": {},
   "source": [
    "Before the model solution loop, we need to create empty matrices to store our results. I commented the code so you can see what is the matrix about."
   ]
  },
  {
   "cell_type": "code",
   "execution_count": null,
   "id": "0ef3a773",
   "metadata": {},
   "outputs": [],
   "source": [
    "# Probabilities of working\n",
    "probs_w = np.empty((age_max,age_max)) \n",
    "probs_w[:] = np.nan         \n",
    "\n",
    "# Probabilities of school\n",
    "probs_s = np.empty((age_max,age_max)) \n",
    "probs_s[:] = np.nan   \n",
    "\n",
    "# Threshold matrix\n",
    "eps_t = np.empty((age_max,age_max)) \n",
    "eps_t[:] = np.nan         \n",
    "\n",
    "# Expected values matrix for L = 1 \n",
    "eve_w  = np.empty((age_max,age_max)) \n",
    "eve_w[:] = np.nan              \n",
    "\n",
    "# Expected values matrix for L = 0 \n",
    "eve_s = np.empty((age_max,age_max)) \n",
    "eve_s[:] = np.nan   \n",
    "\n",
    "# Value function matrix\n",
    "vf = np.empty((age_max,age_max)) \n",
    "vf[:] = np.nan  "
   ]
  },
  {
   "cell_type": "markdown",
   "id": "0e63d5ec",
   "metadata": {},
   "source": [
    "## Model solution loop\n",
    "\n",
    "The model solution is solved backward and follows these steps:\n",
    "\n",
    "1. Solve for the threshold that makes the value function for going to school bigger.\n",
    "2. Use the result from 1 to obtain the probability of going to school.\n",
    "3. Calculate the truncated distribution value for going to school\n",
    "4. Calculate the EV (expected values in the period ahead)\n",
    "5. Repeat until the end of the loop\n",
    "\n",
    "In this case, for the last period we will use the terminal value defined as:\n",
    "\n",
    "\\begin{align}\n",
    "\n",
    "V(ed_{i,18}) = \\frac{\\alpha_{1}}{1 + exp(-\\alpha_{2}*ed_{i,18})}\n",
    "\n",
    "\\end{align}\n",
    "\n",
    "This gives the value of having an specific level of education in the last period"
   ]
  },
  {
   "cell_type": "code",
   "execution_count": null,
   "id": "e06ffed8",
   "metadata": {},
   "outputs": [],
   "source": [
    "for age in range(age_max,-1,-1):\n",
    "    for edu in range(0,age_max):\n",
    "        if edu >= age:\n",
    "            pass\n",
    "        else:       \n",
    "            # For the threshold we will use the terminal value to capture the value of an specifiy education level in terms of utility  \n",
    "               \n",
    "            if age == age_max: #last period situation\n",
    "                tv_s =  ams.prob_progress(edu)*(ams.terminal_v(edu = edu+1)) + (1 - ams.prob_progress(edu))*(ams.terminal_v(edu = edu)) \n",
    "                tv_w =  ams.terminal_v(edu = edu)\n",
    "                eps_t[age-1,edu] = ams.value_function(age,edu,1, EV = tv_s) - ams.value_function(age,edu,0, EV = tv_w)\n",
    "                                   \n",
    "            else:                #Other periods will take the difference between value functions\n",
    "                tv_s = ams.prob_progress(edu)*(vf[age, edu+1]) + (1 - ams.prob_progress(edu))*(vf[age,edu])\n",
    "                tv_w = vf[age, edu]\n",
    "                eps_t[age-1,edu] = ams.value_function(age,edu,1, EV = tv_s) - ams.value_function(age,edu,0, EV = tv_w)\n",
    "            \n",
    "            # Now we will calcute the probabilities of schooling and working based on the thresholds                     \n",
    "            probs_s[age-1,edu] = ams.logistic(eps = eps_t[age-1,edu])\n",
    "            probs_w[age-1,edu] = 1 - probs_s[age-1,edu]\n",
    "            \n",
    "            # Using the thresholds we will calculate the EVs\n",
    "            if age == age_max:\n",
    "                u_t = ams.trunc_change(eps = eps_t[age-1,edu])\n",
    "                eve_s[age-1,edu] = ams.value_function(age,edu,1, EV = tv_s) + ams.trunc_school(ϵ_threshold = eps_t[age-1,edu], u_threshold = u_t)\n",
    "                eve_w[age-1,edu] = ams.value_function(age,edu,0, EV = tv_w)\n",
    "            else:\n",
    "                u_t = ams.trunc_change(eps = eps_t[age-1,edu])\n",
    "                eve_s[age-1,edu] = ams.value_function(age,edu,1, EV = tv_s) + ams.trunc_school(ϵ_threshold = eps_t[age-1,edu], u_threshold = u_t)\n",
    "                eve_w[age-1,edu] = ams.value_function(age,edu,0, EV = tv_w)\n",
    "            \n",
    "            vf[age-1,edu] = probs_s[age-1,edu]*eve_s[age-1,edu] + probs_w[age-1,edu]*eve_w[age-1,edu]"
   ]
  },
  {
   "cell_type": "markdown",
   "id": "bdeb132a",
   "metadata": {},
   "source": [
    "Let's some results. The probability of going to school matrix looks like this:"
   ]
  },
  {
   "cell_type": "code",
   "execution_count": null,
   "id": "26fa0ce3",
   "metadata": {},
   "outputs": [],
   "source": [
    "probs_s"
   ]
  },
  {
   "cell_type": "markdown",
   "id": "ca5faa70",
   "metadata": {},
   "source": [
    "The EV matrix is:"
   ]
  },
  {
   "cell_type": "code",
   "execution_count": null,
   "id": "6249a11e",
   "metadata": {},
   "outputs": [],
   "source": [
    "vf"
   ]
  },
  {
   "cell_type": "markdown",
   "id": "f1ac530e",
   "metadata": {},
   "source": [
    "Using our function file, you can use the following code to run the loop we just saw"
   ]
  },
  {
   "cell_type": "code",
   "execution_count": null,
   "id": "e3c74270",
   "metadata": {},
   "outputs": [],
   "source": [
    "probs_w, probs_s, eps_t, eve_w, eve_s, vf = ams.solution()"
   ]
  }
 ],
 "metadata": {
  "jupytext": {
   "cell_metadata_filter": "-all",
   "formats": "md:myst",
   "text_representation": {
    "extension": ".md",
    "format_name": "myst",
    "format_version": 0.13,
    "jupytext_version": "1.11.5"
   }
  },
  "kernelspec": {
   "display_name": "Python 3",
   "language": "python",
   "name": "python3"
  },
  "language_info": {
   "codemirror_mode": {
    "name": "ipython",
    "version": 3
   },
   "file_extension": ".py",
   "mimetype": "text/x-python",
   "name": "python",
   "nbconvert_exporter": "python",
   "pygments_lexer": "ipython3",
   "version": "3.9.13"
  },
  "source_map": [
   14,
   31,
   34,
   40,
   43,
   47,
   71,
   93,
   127,
   131,
   133,
   137,
   139,
   143
  ]
 },
 "nbformat": 4,
 "nbformat_minor": 5
}