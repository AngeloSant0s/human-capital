{
 "cells": [
  {
   "cell_type": "markdown",
   "id": "9ba2d385",
   "metadata": {},
   "source": [
    "# Simulation\n",
    "## Packages"
   ]
  },
  {
   "cell_type": "code",
   "execution_count": 1,
   "id": "f6410f71",
   "metadata": {
    "tags": [
     "hide-cell"
    ]
   },
   "outputs": [],
   "source": [
    "import numpy as np\n",
    "import pandas as pd\n",
    "import ams_functions as ams"
   ]
  },
  {
   "cell_type": "markdown",
   "id": "10f614d1",
   "metadata": {},
   "source": [
    "## Using the Model solution \n",
    "Using the model solution we can get the expected value matrix to use in our simulation. We will use this to calculate the utility for working and going to school."
   ]
  },
  {
   "cell_type": "code",
   "execution_count": 2,
   "id": "c740b712",
   "metadata": {},
   "outputs": [],
   "source": [
    "probs_w, probs_s, eps_t, eve_w, eve_s, vf = ams.solution()"
   ]
  },
  {
   "cell_type": "markdown",
   "id": "0465c7a3",
   "metadata": {},
   "source": [
    "## Simulation\n",
    "### Parameters \n",
    "\n",
    "We need to define how many individuals we are going to simulate and other parameters for our simulation. The parameters are:\n",
    "\n",
    "- Shock mean (`ϵ_mean`)\n",
    "- Shock Standart deviation (`ϵ_sd`)\n",
    "- The age that we start simulating children choices (`age_start`)\n",
    "- The maximum additional years to `age_start`. In our case we will `age_start` + `age_max` = 15, 15 is the last year that we are going to simulate. \n",
    "- Number of individual (`sim`)\n",
    "- Discount factor (`β`)\n",
    "\n",
    "About the shock, we are considering a logistic distribution."
   ]
  },
  {
   "cell_type": "code",
   "execution_count": 3,
   "id": "48aecedb",
   "metadata": {},
   "outputs": [],
   "source": [
    "np.random.seed(1996)\n",
    "ϵ_mean    = 0\n",
    "ϵ_sd      = 1\n",
    "age_start = 6\n",
    "age_max   = 10\n",
    "sim       = 100\n",
    "β         = 0.9"
   ]
  },
  {
   "cell_type": "markdown",
   "id": "cec637bc",
   "metadata": {},
   "source": [
    "### Creating Matrices\n",
    "Now, we need to create the matrices to store our results and create a dataframe with our individual. We will store the following:\n",
    "\n",
    "- Schooling decision\n",
    "- Education Level in the current period\n",
    "- Education Level in the next period\n",
    "- Age of the child\n",
    "- Shock received\n",
    "- Utility obtained from decision\n",
    "- Consumption obtained from decision"
   ]
  },
  {
   "cell_type": "code",
   "execution_count": 4,
   "id": "251e1274",
   "metadata": {},
   "outputs": [],
   "source": [
    "# School decision\n",
    "S_dec = np.empty((age_max,sim))\n",
    "S_dec[:] = np.nan   \n",
    "\n",
    "# Education level (current period)\n",
    "ed_cur = np.empty((age_max,sim))\n",
    "ed_cur[:] = np.nan   \n",
    "\n",
    "# Education level (next period)\n",
    "ed_next = np.empty((age_max,sim))\n",
    "ed_next[:] = np.nan   \n",
    "\n",
    "# Age \n",
    "age_c = np.empty((age_max,sim))\n",
    "age_c[:] = np.nan\n",
    "\n",
    "# Shock\n",
    "eps = np.empty((age_max,sim))\n",
    "eps[:] = np.nan\n",
    "\n",
    "# Utility \n",
    "U = np.empty((age_max,sim))\n",
    "U[:] = np.nan  \n",
    "\n",
    "# Comsumption\n",
    "C = np.empty((age_max,sim))\n",
    "C[:] = np.nan"
   ]
  },
  {
   "cell_type": "markdown",
   "id": "fc7fa0fb",
   "metadata": {},
   "source": [
    "### Simulating the individuals\n",
    "\n",
    "Now we will loop our simulated individuals using the vf matrix obtained using the model solution code. The loop is commented in order to understand the steps."
   ]
  },
  {
   "cell_type": "code",
   "execution_count": 5,
   "id": "b4bf0cdb",
   "metadata": {},
   "outputs": [],
   "source": [
    "# Loop to simulate the individuals\n",
    "for s in range(sim):\n",
    "    # All the individuals start with no education\n",
    "    edu = 0          \n",
    "    for age in range(age_max):\n",
    "        # Actual child's age\n",
    "        age_c[age,s] = age_start + age\n",
    "        ed_cur[age,s] = edu\n",
    "        \n",
    "        # Random shock to education cost\n",
    "        e_shock = np.random.logistic(loc = ϵ_mean, scale = ϵ_sd)\n",
    "        \n",
    "        # Random shock to primary education sucess  \n",
    "        e_sucess = np.random.uniform()    \n",
    "        \n",
    "        if age == age_max - 1:\n",
    "            s_ev = ams.prob_progress(edu)*ams.terminal_v(edu=edu+1) + (1 - ams.prob_progress(edu))*ams.terminal_v(edu=edu)\n",
    "            w_ev = ams.terminal_v(edu=edu)\n",
    "        else:\n",
    "            s_ev = ams.prob_progress(edu)*vf[age+1, edu+1] + (1 - ams.prob_progress(edu))*vf[age+1,edu] \n",
    "            w_ev = vf[age+1, edu]\n",
    "            \n",
    "        # Utility for choices                          \n",
    "        school = ams.utility(age, edu, school=1, ϵ = e_shock) + β*s_ev\n",
    "        work   = ams.utility(age, edu, school=0, ϵ = e_shock) + β*w_ev\n",
    "                \n",
    "        # Decision that max utility for individual\n",
    "        dec = max(school, work)                                       \n",
    "        u = dec\n",
    "        if u == school:\n",
    "            if e_sucess <= ams.prob_progress(edu):\n",
    "                suc = 1\n",
    "            else:\n",
    "                suc = 0\n",
    "            ed_next[age,s] = edu + suc\n",
    "            C[age,s] = ams.budget_constraint(age, edu, school=1)\n",
    "            U[age,s] = dec\n",
    "            S_dec[age,s] = 1\n",
    "        else:\n",
    "            suc = 0\n",
    "            ed_next[age,s] = edu + suc\n",
    "            C[age,s] = ams.budget_constraint(age, edu, school=0)\n",
    "            U[age,s] = dec\n",
    "            S_dec[age,s] = 0\n",
    "        eps[age,s] = e_shock\n",
    "        edu = edu + suc"
   ]
  },
  {
   "cell_type": "markdown",
   "id": "5c31b820",
   "metadata": {},
   "source": [
    "Now we can use the data created to build our dataframe."
   ]
  },
  {
   "cell_type": "code",
   "execution_count": 6,
   "id": "f8e60edc",
   "metadata": {},
   "outputs": [
    {
     "name": "stdout",
     "output_type": "stream",
     "text": [
      "     id  age  edu  edu_next  School       eps           U           C\n",
      "0     0    6  0.0       1.0     1.0  0.486600  157.077295    0.000000\n",
      "1     0    7  1.0       2.0     1.0 -0.231324  167.333910    0.000000\n",
      "2     0    8  2.0       3.0     1.0 -2.649542  178.663684    0.000000\n",
      "3     0    9  3.0       4.0     1.0  0.168511  198.323842   30.958571\n",
      "4     0   10  4.0       4.0     1.0  1.114490  214.442327   35.721429\n",
      "..   ..  ...  ...       ...     ...       ...         ...         ...\n",
      "995  99   11  5.0       6.0     1.0 -0.958147  229.973267   45.247143\n",
      "996  99   12  6.0       7.0     1.0  2.979259  253.427881   61.917143\n",
      "997  99   13  7.0       7.0     1.0 -0.624382  270.277544   95.257143\n",
      "998  99   14  7.0       8.0     1.0 -0.273750  281.102625   95.257143\n",
      "999  99   15  8.0       9.0     1.0  1.556712  307.177538  104.782857\n",
      "\n",
      "[1000 rows x 8 columns]\n"
     ]
    }
   ],
   "source": [
    "simulated_data = []\n",
    "for i in range(sim):\n",
    "    s = {}\n",
    "    s['id'] = i\n",
    "    s['age']  = list(range(6,16))\n",
    "    s['edu']  = list(ed_cur[:,i])\n",
    "    s['edu_next'] = list(ed_next[:,i])\n",
    "    s['School']  = list(S_dec[:,i])\n",
    "    s['eps']  = list(eps[:,i])\n",
    "    s['U']  = list(U[:,i])\n",
    "    s['C']  = list(C[:,i])\n",
    "    s = pd.DataFrame(s)\n",
    "    simulated_data.append(s)\n",
    "\n",
    "simulated_data = pd.concat(simulated_data, axis = 0).reset_index().drop('index', axis = 1)\n",
    "print(simulated_data)"
   ]
  },
  {
   "cell_type": "markdown",
   "id": "a021a97c",
   "metadata": {},
   "source": [
    "We also can replicate this using the function from the ams_functions file, `ams.simulation()`, wich is this routine collapsed in the function."
   ]
  },
  {
   "cell_type": "code",
   "execution_count": 7,
   "id": "4abf19af",
   "metadata": {},
   "outputs": [
    {
     "name": "stdout",
     "output_type": "stream",
     "text": [
      "     id  age  edu  edu_next  School       eps           U           C\n",
      "0     0    6  0.0       0.0     1.0  1.812244  158.402939    0.000000\n",
      "1     0    7  0.0       1.0     1.0 -0.679639  149.017691    0.000000\n",
      "2     0    8  1.0       2.0     1.0  0.887517  163.325623    0.000000\n",
      "3     0    9  2.0       3.0     1.0  0.612907  178.760986    0.000000\n",
      "4     0   10  3.0       4.0     1.0 -1.030982  196.138880   30.958571\n",
      "..   ..  ...  ...       ...     ...       ...         ...         ...\n",
      "995  99   11  5.0       6.0     1.0 -0.142327  230.789088   45.247143\n",
      "996  99   12  6.0       7.0     1.0 -0.152864  250.295757   61.917143\n",
      "997  99   13  7.0       8.0     1.0  0.913260  271.815187   95.257143\n",
      "998  99   14  8.0       9.0     1.0 -0.733853  290.638434  104.782857\n",
      "999  99   15  9.0      10.0     1.0 -2.864081  310.904298  114.308571\n",
      "\n",
      "[1000 rows x 8 columns]\n"
     ]
    }
   ],
   "source": [
    "sim = ams.simulation()\n",
    "print(sim)"
   ]
  },
  {
   "cell_type": "markdown",
   "id": "6faf2b1c",
   "metadata": {},
   "source": [
    "You can see that the dataframes are equal."
   ]
  }
 ],
 "metadata": {
  "jupytext": {
   "cell_metadata_filter": "-all",
   "formats": "md:myst",
   "text_representation": {
    "extension": ".md",
    "format_name": "myst",
    "format_version": 0.13,
    "jupytext_version": "1.11.5"
   }
  },
  "kernelspec": {
   "display_name": "Python 3",
   "language": "python",
   "name": "python3"
  },
  "language_info": {
   "codemirror_mode": {
    "name": "ipython",
    "version": 3
   },
   "file_extension": ".py",
   "mimetype": "text/x-python",
   "name": "python",
   "nbconvert_exporter": "python",
   "pygments_lexer": "ipython3",
   "version": "3.9.13"
  },
  "source_map": [
   14,
   19,
   25,
   30,
   32,
   48,
   56,
   68,
   96,
   101,
   149,
   153,
   170,
   174,
   177
  ]
 },
 "nbformat": 4,
 "nbformat_minor": 5
}