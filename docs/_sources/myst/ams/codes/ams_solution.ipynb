{
 "cells": [
  {
   "cell_type": "markdown",
   "id": "97bf21b4",
   "metadata": {},
   "source": [
    "# Model solution\n",
    "\n",
    "In this exercise, we will go through the model solution.\n",
    "\n",
    "\n",
    "```{warning} \n",
    "Remember that `ams.func` is the sintax that calls the file with the functions see before.\n",
    "```\n",
    "\n",
    "\n",
    "## Packages\n",
    "\n",
    "First, calls numpy and my functions file so we can use it in our model solution."
   ]
  },
  {
   "cell_type": "code",
   "execution_count": 1,
   "id": "9c7751b5",
   "metadata": {},
   "outputs": [],
   "source": [
    "import numpy as np\n",
    "import ams_functions as ams"
   ]
  },
  {
   "cell_type": "markdown",
   "id": "998c08f4",
   "metadata": {},
   "source": [
    "## Parameters\n",
    "\n",
    "To start our solution, we need to determine the parameters. The names here can be a little bit confusion, but the `age_max` indicate how many adding yeas the child can study. This means that we are simulated children that are 6 years old and can study until they are 16."
   ]
  },
  {
   "cell_type": "code",
   "execution_count": 2,
   "id": "2fbb5979",
   "metadata": {},
   "outputs": [],
   "source": [
    "age_start = 6\n",
    "age_max   = 10"
   ]
  },
  {
   "cell_type": "markdown",
   "id": "f6ac7b87",
   "metadata": {},
   "source": [
    "Before the model solution loop, we need to create empty matrices to store our results. I commented the code so you can see what is the matrix about."
   ]
  },
  {
   "cell_type": "code",
   "execution_count": 3,
   "id": "7f152e7c",
   "metadata": {},
   "outputs": [],
   "source": [
    "# Probabilities of working\n",
    "probs_w = np.empty((age_max,age_max)) \n",
    "probs_w[:] = np.nan         \n",
    "\n",
    "# Probabilities of school\n",
    "probs_s = np.empty((age_max,age_max)) \n",
    "probs_s[:] = np.nan   \n",
    "\n",
    "# Threshold matrix\n",
    "eps_t = np.empty((age_max,age_max)) \n",
    "eps_t[:] = np.nan         \n",
    "\n",
    "# Expected values matrix for L = 1 \n",
    "eve_w  = np.empty((age_max,age_max)) \n",
    "eve_w[:] = np.nan              \n",
    "\n",
    "# Expected values matrix for L = 0 \n",
    "eve_s = np.empty((age_max,age_max)) \n",
    "eve_s[:] = np.nan   \n",
    "\n",
    "# Value function matrix\n",
    "vf = np.empty((age_max,age_max)) \n",
    "vf[:] = np.nan  "
   ]
  },
  {
   "cell_type": "markdown",
   "id": "c75a16bd",
   "metadata": {},
   "source": [
    "## Model solution loop\n",
    "\n",
    "The model solution is solved backward and follows these steps:\n",
    "\n",
    "1. Solve for the threshold that makes the value function for going to school bigger.\n",
    "2. Use the result from 1 to obtain the probability of going to school.\n",
    "3. Calculate the truncated distribution value for going to school\n",
    "4. Calculate the EV (expected values in the period ahead)\n",
    "5. Repeat until the end of the loop\n",
    "\n",
    "In this case, for the last period we will use the terminal value defined as:\n",
    "\n",
    "\\begin{align}\n",
    "\n",
    "V(ed_{i,18}) = \\frac{\\alpha_{1}}{1 + exp(-\\alpha_{2}*ed_{i,18})}\n",
    "\n",
    "\\end{align}\n",
    "\n",
    "This gives the value of having an specific level of education in the last period"
   ]
  },
  {
   "cell_type": "code",
   "execution_count": 4,
   "id": "dbed2416",
   "metadata": {},
   "outputs": [],
   "source": [
    "for age in range(age_max,-1,-1):\n",
    "    for edu in range(0,age_max):\n",
    "        if edu >= age:\n",
    "            pass\n",
    "        else:       \n",
    "            # For the threshold we will use the terminal value to capture the value of an specifiy education level in terms of utility  \n",
    "               \n",
    "            if age == age_max: #last period situation\n",
    "                tv_s =  ams.prob_progress(edu)*(ams.terminal_v(edu = edu+1)) + (1 - ams.prob_progress(edu))*(ams.terminal_v(edu = edu)) \n",
    "                tv_w =  ams.terminal_v(edu = edu)\n",
    "                eps_t[age-1,edu] = ams.value_function(age,edu,1, EV = tv_s) - ams.value_function(age,edu,0, EV = tv_w)\n",
    "                                   \n",
    "            else:                #Other periods will take the difference between value functions\n",
    "                tv_s = ams.prob_progress(edu)*(vf[age, edu+1]) + (1 - ams.prob_progress(edu))*(vf[age,edu])\n",
    "                tv_w = vf[age, edu]\n",
    "                eps_t[age-1,edu] = ams.value_function(age,edu,1, EV = tv_s) - ams.value_function(age,edu,0, EV = tv_w)\n",
    "            \n",
    "            # Now we will calcute the probabilities of schooling and working based on the thresholds                     \n",
    "            probs_s[age-1,edu] = ams.logistic(eps = eps_t[age-1,edu])\n",
    "            probs_w[age-1,edu] = 1 - probs_s[age-1,edu]\n",
    "            \n",
    "            # Using the thresholds we will calculate the EVs\n",
    "            if age == age_max:\n",
    "                u_t = ams.trunc_change(eps = eps_t[age-1,edu])\n",
    "                eve_s[age-1,edu] = ams.value_function(age,edu,1, EV = tv_s) + ams.trunc_school(ϵ_threshold = eps_t[age-1,edu], u_threshold = u_t)\n",
    "                eve_w[age-1,edu] = ams.value_function(age,edu,0, EV = tv_w)\n",
    "            else:\n",
    "                u_t = ams.trunc_change(eps = eps_t[age-1,edu])\n",
    "                eve_s[age-1,edu] = ams.value_function(age,edu,1, EV = tv_s) + ams.trunc_school(ϵ_threshold = eps_t[age-1,edu], u_threshold = u_t)\n",
    "                eve_w[age-1,edu] = ams.value_function(age,edu,0, EV = tv_w)\n",
    "            \n",
    "            vf[age-1,edu] = probs_s[age-1,edu]*eve_s[age-1,edu] + probs_w[age-1,edu]*eve_w[age-1,edu]"
   ]
  },
  {
   "cell_type": "markdown",
   "id": "c4ce93f5",
   "metadata": {},
   "source": [
    "Let's some results. The probability of going to school matrix looks like this:"
   ]
  },
  {
   "cell_type": "code",
   "execution_count": 5,
   "id": "1fe72cfe",
   "metadata": {},
   "outputs": [
    {
     "data": {
      "text/plain": [
       "array([[0.99999993,        nan,        nan,        nan,        nan,\n",
       "               nan,        nan,        nan,        nan,        nan],\n",
       "       [0.99999884, 0.99999981,        nan,        nan,        nan,\n",
       "               nan,        nan,        nan,        nan,        nan],\n",
       "       [0.99997971, 0.99999692, 0.99999955,        nan,        nan,\n",
       "               nan,        nan,        nan,        nan,        nan],\n",
       "       [0.99962732, 0.99994308, 0.99999232, 0.99999898,        nan,\n",
       "               nan,        nan,        nan,        nan,        nan],\n",
       "       [0.99586383, 0.99880728, 0.99984954, 0.99998211, 0.99999649,\n",
       "               nan,        nan,        nan,        nan,        nan],\n",
       "       [0.91581254, 0.98644322, 0.9962496 , 0.99962788, 0.9999358 ,\n",
       "        0.99998729,        nan,        nan,        nan,        nan],\n",
       "       [0.65754572, 0.76395663, 0.96031838, 0.98826779, 0.99857002,\n",
       "        0.99975688, 0.99994754,        nan,        nan,        nan],\n",
       "       [0.33117145, 0.39518156, 0.55636764, 0.91813627, 0.94320286,\n",
       "        0.99389726, 0.9989383 , 0.99971736,        nan,        nan],\n",
       "       [0.13441563, 0.15878852, 0.11884147, 0.7362356 , 0.67868231,\n",
       "        0.76872596, 0.97157708, 0.99372576, 0.99781425,        nan],\n",
       "       [0.05324222, 0.05684499, 0.03267233, 0.43056996, 0.28367671,\n",
       "        0.27255018, 0.50621805, 0.88952229, 0.94513499, 0.97851892]])"
      ]
     },
     "execution_count": 5,
     "metadata": {},
     "output_type": "execute_result"
    }
   ],
   "source": [
    "probs_s"
   ]
  },
  {
   "cell_type": "markdown",
   "id": "545dfa14",
   "metadata": {},
   "source": [
    "The EV matrix is:"
   ]
  },
  {
   "cell_type": "code",
   "execution_count": 6,
   "id": "d14578b8",
   "metadata": {},
   "outputs": [
    {
     "data": {
      "text/plain": [
       "array([[154.2996938 ,          nan,          nan,          nan,\n",
       "                 nan,          nan,          nan,          nan,\n",
       "                 nan,          nan],\n",
       "       [147.40631343, 165.27423062,          nan,          nan,\n",
       "                 nan,          nan,          nan,          nan,\n",
       "                 nan,          nan],\n",
       "       [142.41339016, 160.14706687, 179.02221917,          nan,\n",
       "                 nan,          nan,          nan,          nan,\n",
       "                 nan,          nan],\n",
       "       [139.62337579, 157.12161177, 175.85698874, 195.86431707,\n",
       "                 nan,          nan,          nan,          nan,\n",
       "                 nan,          nan],\n",
       "       [139.31015202, 156.54370737, 175.01510424, 194.87866649,\n",
       "        211.0367933 ,          nan,          nan,          nan,\n",
       "                 nan,          nan],\n",
       "       [141.18076829, 158.80179566, 176.88834836, 196.46108271,\n",
       "        212.47273586, 228.6402713 ,          nan,          nan,\n",
       "                 nan,          nan],\n",
       "       [146.3594149 , 163.55689397, 182.03683495, 201.05416816,\n",
       "        216.74777283, 232.76714143, 248.15710453,          nan,\n",
       "                 nan,          nan],\n",
       "       [153.3799503 , 171.87520601, 189.96149747, 209.48071548,\n",
       "        224.37003875, 240.03721847, 255.27493485, 268.60861758,\n",
       "                 nan,          nan],\n",
       "       [161.33329164, 181.63603512, 201.23849672, 220.60613972,\n",
       "        236.52013511, 251.09686622, 265.88547942, 279.05383333,\n",
       "        289.06793576,          nan],\n",
       "       [169.66802391, 192.06435084, 213.670688  , 233.8340728 ,\n",
       "        251.59177304, 267.19573071, 280.76515423, 293.43892839,\n",
       "        303.18467998, 311.39752683]])"
      ]
     },
     "execution_count": 6,
     "metadata": {},
     "output_type": "execute_result"
    }
   ],
   "source": [
    "vf"
   ]
  },
  {
   "cell_type": "markdown",
   "id": "00e30296",
   "metadata": {},
   "source": [
    "Using our function file, you can use the following code to run the loop we just saw"
   ]
  },
  {
   "cell_type": "code",
   "execution_count": 7,
   "id": "402fe4ab",
   "metadata": {},
   "outputs": [],
   "source": [
    "probs_w, probs_s, eps_t, eve_w, eve_s, vf = ams.solution()"
   ]
  }
 ],
 "metadata": {
  "jupytext": {
   "cell_metadata_filter": "-all",
   "formats": "md:myst",
   "text_representation": {
    "extension": ".md",
    "format_name": "myst",
    "format_version": 0.13,
    "jupytext_version": "1.11.5"
   }
  },
  "kernelspec": {
   "display_name": "Python 3",
   "language": "python",
   "name": "python3"
  },
  "language_info": {
   "codemirror_mode": {
    "name": "ipython",
    "version": 3
   },
   "file_extension": ".py",
   "mimetype": "text/x-python",
   "name": "python",
   "nbconvert_exporter": "python",
   "pygments_lexer": "ipython3",
   "version": "3.9.13"
  },
  "source_map": [
   14,
   31,
   34,
   40,
   43,
   47,
   71,
   93,
   127,
   131,
   133,
   137,
   139,
   143
  ]
 },
 "nbformat": 4,
 "nbformat_minor": 5
}